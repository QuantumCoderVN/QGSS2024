{
 "cells": [
  {
   "cell_type": "code",
   "execution_count": 1,
   "metadata": {},
   "outputs": [],
   "source": [
    "import math\n",
    "import random\n",
    "import numpy as np\n",
    "import pandas as pd\n",
    "import matplotlib.pyplot as plt\n",
    "from qiskit import QuantumCircuit\n",
    "from qiskit_aer import AerSimulator\n",
    "import torch\n",
    "import torch.nn as nn\n",
    "import torch.optim as optim\n",
    "from torch.utils.data import Dataset, DataLoader\n",
    "from torchsummary import summary\n",
    "\n",
    "# Set random seed\n",
    "seed = 42\n",
    "torch.manual_seed(seed)\n",
    "np.random.seed(seed)\n",
    "random.seed(seed)"
   ]
  },
  {
   "cell_type": "code",
   "execution_count": 2,
   "metadata": {},
   "outputs": [],
   "source": [
    "# Configure parameters\n",
    "n_qubits = 5  # Total number of qubits / N\n",
    "n_a_qubits = 1  # Number of ancillary qubits / N_A\n",
    "q_depth = 6  # Depth of the parameterised quantum circuit / D\n",
    "n_generators = 4  # Number of subgenerators for the patch method / N_G\n",
    "image_size = 8  \n",
    "batch_size = 1\n",
    "lrG = 0.03  # Learning rate for the generator\n",
    "lrD = 0.001  # Learning rate for the discriminator\n",
    "num_iter = 1600  # Number of training iterations"
   ]
  },
  {
   "cell_type": "code",
   "execution_count": 3,
   "metadata": {},
   "outputs": [],
   "source": [
    "# Dataset\n",
    "class DigitsDataset(Dataset):\n",
    "    def __init__(self, csv_file, label=0, transform=None):\n",
    "        self.csv_file = csv_file\n",
    "        self.transform = transform\n",
    "        self.df = self.filter_by_label(label)\n",
    "\n",
    "    def filter_by_label(self, label):\n",
    "        df = pd.read_csv(self.csv_file)\n",
    "        df = df.loc[df.iloc[:, -1] == label]\n",
    "        return df\n",
    "\n",
    "    def __len__(self):\n",
    "        return len(self.df)\n",
    "\n",
    "    def __getitem__(self, idx):\n",
    "        image = self.df.iloc[idx, :-1] / 16\n",
    "        image = np.array(image).astype(np.float32).reshape(8, 8)\n",
    "        if self.transform:\n",
    "            image = self.transform(image)\n",
    "        return image, 0\n",
    "\n",
    "# DataLoader\n",
    "dataset = DigitsDataset(csv_file=\"D:/4. MACHINE LEARNING/GAN/data_qgans/optdigits.tra\")\n",
    "dataloader = DataLoader(dataset, batch_size=batch_size, shuffle=True)\n",
    "\n"
   ]
  },
  {
   "cell_type": "code",
   "execution_count": 4,
   "metadata": {},
   "outputs": [
    {
     "data": {
      "image/png": "[encoded data removed]",
      "text/plain": [
       "<Figure size 800x200 with 8 Axes>"
      ]
     },
     "metadata": {},
     "output_type": "display_data"
    }
   ],
   "source": [
    "# Display some sample images\n",
    "plt.figure(figsize=(8, 2))\n",
    "for i in range(8):\n",
    "    image = dataset[i][0]\n",
    "    plt.subplot(1, 8, i + 1)\n",
    "    plt.axis('off')\n",
    "    plt.imshow(image, cmap='gray')\n",
    "plt.show()"
   ]
  },
  {
   "cell_type": "code",
   "execution_count": 5,
   "metadata": {},
   "outputs": [],
   "source": [
    "# Discriminator\n",
    "class Discriminator(nn.Module):\n",
    "    def __init__(self):\n",
    "        super().__init__()\n",
    "        self.model = nn.Sequential(\n",
    "            nn.Linear(image_size * image_size, 64),\n",
    "            nn.ReLU(),\n",
    "            nn.Linear(64, 16),\n",
    "            nn.ReLU(),\n",
    "            nn.Linear(16, 1),\n",
    "            nn.Sigmoid(),\n",
    "        )\n",
    "\n",
    "    def forward(self, x):\n",
    "        return self.model(x)\n",
    "discriminator = Discriminator()\n",
    "# summary(discriminator, (image_size * image_size,))"
   ]
  },
  {
   "cell_type": "code",
   "execution_count": 6,
   "metadata": {},
   "outputs": [],
   "source": [
    "def create_quantum_circuit(noise, weights):\n",
    "    \"\"\"Create quantum circuit with proper weight structure\"\"\"\n",
    "    circuit = QuantumCircuit(n_qubits)\n",
    "    weights = weights.reshape(q_depth, n_qubits)\n",
    "    # Apply initial rotations based on noise input\n",
    "    # Initialise latent vectors\n",
    "    for i in range(n_qubits):\n",
    "        circuit.ry(float(noise[i]), i)\n",
    "    \n",
    "    # Repeated layer structure\n",
    "    for d in range(q_depth):\n",
    "        for i in range(n_qubits):\n",
    "            circuit.ry(float(weights[d][i]), i)\n",
    "        for i in range(n_qubits - 1):\n",
    "            circuit.cz(i, i + 1)\n",
    "    \n",
    "    circuit.measure_all()\n",
    "    return circuit\n",
    "\n",
    "def partial_measure(noise, weights):\n",
    "    \"\"\"Execute quantum circuit and return measurement probabilities\"\"\"\n",
    "    circuit = create_quantum_circuit(noise, weights)\n",
    "    simulator = AerSimulator()\n",
    "    job = simulator.run(circuit, shots=2048)\n",
    "    result = job.result()\n",
    "    counts = result.get_counts()\n",
    "    \n",
    "    # Process measurement results\n",
    "    probs = np.zeros(2 ** n_qubits)\n",
    "    for state, count in counts.items():\n",
    "        idx = int(state[::-1], 2)\n",
    "        probs[idx] = count\n",
    "    probs /= np.sum(probs)\n",
    "    \n",
    "    # Calculate conditional probabilities\n",
    "    probsgiven0 = probs[:2 ** (n_qubits - n_a_qubits)]\n",
    "    if np.sum(probsgiven0) > 0:\n",
    "        probsgiven0 /= np.sum(probsgiven0)\n",
    "    return probsgiven0\n",
    "\n"
   ]
  },
  {
   "cell_type": "code",
   "execution_count": 7,
   "metadata": {},
   "outputs": [],
   "source": [
    "class PatchQuantumGenerator:\n",
    "    def __init__(self, n_generators, q_delta=1):\n",
    "        \"\"\"\n",
    "        Args:\n",
    "            n_generators (int): Number of sub-generators to be used in the patch method.\n",
    "            q_delta (float, optional): Spread of the random distribution for parameter initialization.\n",
    "        \"\"\"\n",
    "        self.q_params = [\n",
    "            torch.tensor(q_delta * np.random.rand(q_depth * n_qubits), dtype=torch.float32, requires_grad=True)\n",
    "            for _ in range(n_generators)\n",
    "        ]\n",
    "        self.n_generators = n_generators\n",
    "\n",
    "    def forward(self, x):\n",
    "        patch_size = 2 ** (n_qubits - n_a_qubits)\n",
    "        images = np.empty((x.shape[0], 0))\n",
    "\n",
    "        for params in self.q_params:\n",
    "            patches = np.empty((0, patch_size))\n",
    "            for elem in x:\n",
    "                q_out = partial_measure(elem, params.detach().numpy())\n",
    "                patches = np.concatenate((patches, q_out.reshape(1, -1)))\n",
    "\n",
    "            images = np.concatenate((images, patches), axis=1)\n",
    "\n",
    "        return images\n",
    "\n",
    "\n",
    "    def zero_grad(self):\n",
    "        \"\"\"Reset gradients of all the parameters of the generator\"\"\"\n",
    "        for params in self.q_params:\n",
    "            if params.grad is not None:\n",
    "                params.grad.zero_()\n",
    "\n",
    "    def parameters(self):\n",
    "        \"\"\"Return all the parameters (weights) of the quantum generator as PyTorch tensors.\"\"\"\n",
    "        return self.q_params\n"
   ]
  },
  {
   "cell_type": "code",
   "execution_count": 8,
   "metadata": {},
   "outputs": [],
   "source": [
    "generator = PatchQuantumGenerator(n_generators=n_generators)"
   ]
  },
  {
   "cell_type": "code",
   "execution_count": 9,
   "metadata": {},
   "outputs": [
    {
     "data": {
      "text/plain": [
       "[tensor([0.3745, 0.9507, 0.7320, 0.5987, 0.1560, 0.1560, 0.0581, 0.8662, 0.6011,\n",
       "         0.7081, 0.0206, 0.9699, 0.8324, 0.2123, 0.1818, 0.1834, 0.3042, 0.5248,\n",
       "         0.4319, 0.2912, 0.6119, 0.1395, 0.2921, 0.3664, 0.4561, 0.7852, 0.1997,\n",
       "         0.5142, 0.5924, 0.0465], requires_grad=True),\n",
       " tensor([0.6075, 0.1705, 0.0651, 0.9489, 0.9656, 0.8084, 0.3046, 0.0977, 0.6842,\n",
       "         0.4402, 0.1220, 0.4952, 0.0344, 0.9093, 0.2588, 0.6625, 0.3117, 0.5201,\n",
       "         0.5467, 0.1849, 0.9696, 0.7751, 0.9395, 0.8948, 0.5979, 0.9219, 0.0885,\n",
       "         0.1960, 0.0452, 0.3253], requires_grad=True),\n",
       " tensor([0.3887, 0.2713, 0.8287, 0.3568, 0.2809, 0.5427, 0.1409, 0.8022, 0.0746,\n",
       "         0.9869, 0.7722, 0.1987, 0.0055, 0.8155, 0.7069, 0.7290, 0.7713, 0.0740,\n",
       "         0.3585, 0.1159, 0.8631, 0.6233, 0.3309, 0.0636, 0.3110, 0.3252, 0.7296,\n",
       "         0.6376, 0.8872, 0.4722], requires_grad=True),\n",
       " tensor([0.1196, 0.7132, 0.7608, 0.5613, 0.7710, 0.4938, 0.5227, 0.4275, 0.0254,\n",
       "         0.1079, 0.0314, 0.6364, 0.3144, 0.5086, 0.9076, 0.2493, 0.4104, 0.7556,\n",
       "         0.2288, 0.0770, 0.2898, 0.1612, 0.9297, 0.8081, 0.6334, 0.8715, 0.8037,\n",
       "         0.1866, 0.8926, 0.5393], requires_grad=True)]"
      ]
     },
     "execution_count": 9,
     "metadata": {},
     "output_type": "execute_result"
    }
   ],
   "source": [
    "generator.q_params"
   ]
  },
  {
   "cell_type": "code",
   "execution_count": 10,
   "metadata": {},
   "outputs": [],
   "source": [
    "# Binary Cross-Entropy Loss function\n",
    "criterion = nn.BCELoss()\n",
    "\n",
    "# Optimizer cho Generator\n",
    "optG = optim.SGD(generator.parameters(), lr=lrG)\n",
    "\n",
    "# Optimizer cho Discriminator\n",
    "optD = optim.SGD(discriminator.parameters(), lr=lrD)\n",
    "\n",
    "\n"
   ]
  },
  {
   "cell_type": "code",
   "execution_count": 11,
   "metadata": {},
   "outputs": [],
   "source": [
    "real_labels = torch.full((batch_size,), 1.0, dtype=torch.float)\n",
    "fake_labels = torch.full((batch_size,), 0.0, dtype=torch.float)\n",
    "# print (real_labels)\n",
    "# print (fake_labels)\n",
    "# Fixed noise allows us to visually track the generated images throughout training\n",
    "fixed_noise = torch.rand(8, n_qubits) * math.pi / 2\n",
    "# print (fixed_noise)"
   ]
  },
  {
   "cell_type": "code",
   "execution_count": 12,
   "metadata": {},
   "outputs": [
    {
     "name": "stdout",
     "output_type": "stream",
     "text": [
      "Iteration: 100, Discriminator Loss: 1.367, Generator Loss: 0.581\n"
     ]
    },
    {
     "data": {
      "image/png": "[encoded data removed]",
      "text/plain": [
       "<Figure size 800x200 with 8 Axes>"
      ]
     },
     "metadata": {},
     "output_type": "display_data"
    },
    {
     "name": "stdout",
     "output_type": "stream",
     "text": [
      "Iteration: 200, Discriminator Loss: 1.352, Generator Loss: 0.587\n"
     ]
    },
    {
     "data": {
      "image/png": "[encoded data removed]",
      "text/plain": [
       "<Figure size 800x200 with 8 Axes>"
      ]
     },
     "metadata": {},
     "output_type": "display_data"
    },
    {
     "name": "stdout",
     "output_type": "stream",
     "text": [
      "Iteration: 300, Discriminator Loss: 1.340, Generator Loss: 0.588\n"
     ]
    },
    {
     "data": {
      "image/png": "[encoded data removed]",
      "text/plain": [
       "<Figure size 800x200 with 8 Axes>"
      ]
     },
     "metadata": {},
     "output_type": "display_data"
    },
    {
     "name": "stdout",
     "output_type": "stream",
     "text": [
      "Iteration: 400, Discriminator Loss: 1.285, Generator Loss: 0.611\n"
     ]
    },
    {
     "data": {
      "image/png": "[encoded data removed]",
      "text/plain": [
       "<Figure size 800x200 with 8 Axes>"
      ]
     },
     "metadata": {},
     "output_type": "display_data"
    },
    {
     "name": "stdout",
     "output_type": "stream",
     "text": [
      "Iteration: 500, Discriminator Loss: 1.283, Generator Loss: 0.622\n"
     ]
    },
    {
     "data": {
      "image/png": "[encoded data removed]",
      "text/plain": [
       "<Figure size 800x200 with 8 Axes>"
      ]
     },
     "metadata": {},
     "output_type": "display_data"
    },
    {
     "name": "stdout",
     "output_type": "stream",
     "text": [
      "Iteration: 600, Discriminator Loss: 1.259, Generator Loss: 0.621\n"
     ]
    },
    {
     "data": {
      "image/png": "[encoded data removed]",
      "text/plain": [
       "<Figure size 800x200 with 8 Axes>"
      ]
     },
     "metadata": {},
     "output_type": "display_data"
    },
    {
     "name": "stdout",
     "output_type": "stream",
     "text": [
      "Iteration: 700, Discriminator Loss: 1.211, Generator Loss: 0.664\n"
     ]
    },
    {
     "data": {
      "image/png": "[encoded data removed]",
      "text/plain": [
       "<Figure size 800x200 with 8 Axes>"
      ]
     },
     "metadata": {},
     "output_type": "display_data"
    },
    {
     "name": "stdout",
     "output_type": "stream",
     "text": [
      "Iteration: 800, Discriminator Loss: 1.167, Generator Loss: 0.650\n"
     ]
    },
    {
     "data": {
      "image/png": "[encoded data removed]",
      "text/plain": [
       "<Figure size 800x200 with 8 Axes>"
      ]
     },
     "metadata": {},
     "output_type": "display_data"
    },
    {
     "name": "stdout",
     "output_type": "stream",
     "text": [
      "Iteration: 900, Discriminator Loss: 1.178, Generator Loss: 0.634\n"
     ]
    },
    {
     "data": {
      "image/png": "[encoded data removed]",
      "text/plain": [
       "<Figure size 800x200 with 8 Axes>"
      ]
     },
     "metadata": {},
     "output_type": "display_data"
    },
    {
     "name": "stdout",
     "output_type": "stream",
     "text": [
      "Iteration: 1000, Discriminator Loss: 1.150, Generator Loss: 0.674\n"
     ]
    },
    {
     "data": {
      "image/png": "[encoded data removed]",
      "text/plain": [
       "<Figure size 800x200 with 8 Axes>"
      ]
     },
     "metadata": {},
     "output_type": "display_data"
    },
    {
     "name": "stdout",
     "output_type": "stream",
     "text": [
      "Iteration: 1100, Discriminator Loss: 1.028, Generator Loss: 0.705\n"
     ]
    },
    {
     "data": {
      "image/png": "[encoded data removed]",
      "text/plain": [
       "<Figure size 800x200 with 8 Axes>"
      ]
     },
     "metadata": {},
     "output_type": "display_data"
    },
    {
     "name": "stdout",
     "output_type": "stream",
     "text": [
      "Iteration: 1200, Discriminator Loss: 1.056, Generator Loss: 0.672\n"
     ]
    },
    {
     "data": {
      "image/png": "[encoded data removed]",
      "text/plain": [
       "<Figure size 800x200 with 8 Axes>"
      ]
     },
     "metadata": {},
     "output_type": "display_data"
    },
    {
     "name": "stdout",
     "output_type": "stream",
     "text": [
      "Iteration: 1300, Discriminator Loss: 0.905, Generator Loss: 0.765\n"
     ]
    },
    {
     "data": {
      "image/png": "[encoded data removed]",
      "text/plain": [
       "<Figure size 800x200 with 8 Axes>"
      ]
     },
     "metadata": {},
     "output_type": "display_data"
    },
    {
     "name": "stdout",
     "output_type": "stream",
     "text": [
      "Iteration: 1400, Discriminator Loss: 0.877, Generator Loss: 0.759\n"
     ]
    },
    {
     "data": {
      "image/png": "[encoded data removed]",
      "text/plain": [
       "<Figure size 800x200 with 8 Axes>"
      ]
     },
     "metadata": {},
     "output_type": "display_data"
    },
    {
     "name": "stdout",
     "output_type": "stream",
     "text": [
      "Iteration: 1500, Discriminator Loss: 0.816, Generator Loss: 0.795\n"
     ]
    },
    {
     "data": {
      "image/png": "[encoded data removed]",
      "text/plain": [
       "<Figure size 800x200 with 8 Axes>"
      ]
     },
     "metadata": {},
     "output_type": "display_data"
    },
    {
     "name": "stdout",
     "output_type": "stream",
     "text": [
      "Iteration: 1600, Discriminator Loss: 0.728, Generator Loss: 0.868\n"
     ]
    },
    {
     "data": {
      "image/png": "[encoded data removed]",
      "text/plain": [
       "<Figure size 800x200 with 8 Axes>"
      ]
     },
     "metadata": {},
     "output_type": "display_data"
    },
    {
     "data": {
      "image/png": "[encoded data removed]",
      "text/plain": [
       "<Figure size 640x480 with 1 Axes>"
      ]
     },
     "metadata": {},
     "output_type": "display_data"
    }
   ],
   "source": [
    "# Define the loss function for the generator\n",
    "def generator_loss_func(fake_data):\n",
    "    \"\"\"Calculate the generator's loss based on the discriminator's output.\"\"\"\n",
    "    outD_fake = discriminator(torch.tensor(fake_data, dtype=torch.float32)).view(-1)\n",
    "    return criterion(outD_fake, real_labels).item()\n",
    "\n",
    "# Training loop\n",
    "counter = 0\n",
    "generator_losses = []\n",
    "discriminator_losses = []\n",
    "\n",
    "while True:\n",
    "    for i, (data, _) in enumerate(dataloader):\n",
    "\n",
    "        # Prepare data for the Discriminator\n",
    "        data = data.reshape(-1, image_size * image_size)\n",
    "        real_data = data\n",
    "\n",
    "        # Generate noise for fake data\n",
    "        noise = torch.rand(batch_size, n_qubits) * math.pi\n",
    "        fake_data = generator.forward(noise.numpy())  # Generate fake data from the generator\n",
    "        fake_data_tensor = torch.tensor(fake_data, dtype=torch.float32)\n",
    "\n",
    "        # Train the Discriminator\n",
    "        discriminator.zero_grad()\n",
    "        outD_real = discriminator(real_data).view(-1)\n",
    "        outD_fake = discriminator(fake_data_tensor.detach()).view(-1)\n",
    "\n",
    "        errD_real = criterion(outD_real, real_labels)\n",
    "        errD_fake = criterion(outD_fake, fake_labels)\n",
    "\n",
    "        errD_real.backward()\n",
    "        errD_fake.backward()\n",
    "\n",
    "        errD = errD_real + errD_fake\n",
    "        optD.step()  # Update the Discriminator's weights\n",
    "        discriminator_losses.append(errD.item())\n",
    "\n",
    "        # Train the Generator\n",
    "        generator.zero_grad()\n",
    "        outD_fake = discriminator(fake_data_tensor).view(-1)\n",
    "        errG = criterion(outD_fake, real_labels)  # Generator's loss\n",
    "        errG.backward()\n",
    "        optG.step()  # Update the Generator's weights\n",
    "        generator_losses.append(errG.item())\n",
    "        counter += 1\n",
    "        if counter % 100 == 0:\n",
    "            print(f'Iteration: {counter}, Discriminator Loss: {errD.item():0.3f}, Generator Loss: {errG.item():0.3f}')\n",
    "        # Plot the generated image samples\n",
    "            plt.figure(figsize=(8, 2))\n",
    "            for i in range(8):\n",
    "                fake_image = fake_data[0].reshape(image_size, image_size)\n",
    "                plt.subplot(1, 8, i + 1)\n",
    "                plt.axis('off')\n",
    "                plt.imshow(fake_image, cmap='gray')\n",
    "            plt.show()\n",
    "\n",
    "        if counter == num_iter:\n",
    "            break\n",
    "\n",
    "    if counter == num_iter:\n",
    "        break\n",
    "\n",
    "# Plot the loss graph\n",
    "plt.plot(generator_losses, label=\"Generator Loss\")\n",
    "plt.plot(discriminator_losses, label=\"Discriminator Loss\")\n",
    "plt.xlabel(\"Iterations\")\n",
    "plt.ylabel(\"Loss\")\n",
    "plt.legend()\n",
    "plt.show()\n"
   ]
  }
 ],
 "metadata": {
  "kernelspec": {
   "display_name": "base",
   "language": "python",
   "name": "python3"
  },
  "language_info": {
   "codemirror_mode": {
    "name": "ipython",
    "version": 3
   },
   "file_extension": ".py",
   "mimetype": "text/x-python",
   "name": "python",
   "nbconvert_exporter": "python",
   "pygments_lexer": "ipython3",
   "version": "3.12.4"
  }
 },
 "nbformat": 4,
 "nbformat_minor": 2
}
